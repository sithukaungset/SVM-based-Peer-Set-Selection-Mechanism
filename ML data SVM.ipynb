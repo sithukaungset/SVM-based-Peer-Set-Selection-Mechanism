{
 "cells": [
  {
   "cell_type": "code",
   "execution_count": 1,
   "metadata": {},
   "outputs": [],
   "source": [
    "\n",
    "import pandas as pd\n",
    "import numpy as np\n",
    "import matplotlib.pyplot as plt\n",
    "import seaborn as sns\n",
    "%matplotlib inline\n",
    "#Import cancer data from the Sklearn library.\n",
    "#Dataset can also be found here\n",
    "\n",
    "\n",
    "dataset = pd.read_csv('/home/inlab/Downloads/data extraction_0125_v1.csv')\n",
    "result = ['Trustable','Non-Trustable']"
   ]
  },
  {
   "cell_type": "code",
   "execution_count": 2,
   "metadata": {},
   "outputs": [
    {
     "data": {
      "text/html": [
       "<div>\n",
       "<style scoped>\n",
       "    .dataframe tbody tr th:only-of-type {\n",
       "        vertical-align: middle;\n",
       "    }\n",
       "\n",
       "    .dataframe tbody tr th {\n",
       "        vertical-align: top;\n",
       "    }\n",
       "\n",
       "    .dataframe thead th {\n",
       "        text-align: right;\n",
       "    }\n",
       "</style>\n",
       "<table border=\"1\" class=\"dataframe\">\n",
       "  <thead>\n",
       "    <tr style=\"text-align: right;\">\n",
       "      <th></th>\n",
       "      <th># of Peers</th>\n",
       "      <th>Endorsing</th>\n",
       "      <th>MaxDelay</th>\n",
       "      <th>MinDelay</th>\n",
       "      <th>AvgDelay</th>\n",
       "      <th>TPS</th>\n",
       "      <th>IsTrustable</th>\n",
       "    </tr>\n",
       "  </thead>\n",
       "  <tbody>\n",
       "    <tr>\n",
       "      <th>0</th>\n",
       "      <td>20</td>\n",
       "      <td>20</td>\n",
       "      <td>98</td>\n",
       "      <td>28</td>\n",
       "      <td>67.85</td>\n",
       "      <td>229</td>\n",
       "      <td>1</td>\n",
       "    </tr>\n",
       "    <tr>\n",
       "      <th>1</th>\n",
       "      <td>20</td>\n",
       "      <td>20</td>\n",
       "      <td>99</td>\n",
       "      <td>23</td>\n",
       "      <td>58.90</td>\n",
       "      <td>141</td>\n",
       "      <td>0</td>\n",
       "    </tr>\n",
       "    <tr>\n",
       "      <th>2</th>\n",
       "      <td>20</td>\n",
       "      <td>20</td>\n",
       "      <td>89</td>\n",
       "      <td>29</td>\n",
       "      <td>67.95</td>\n",
       "      <td>209</td>\n",
       "      <td>1</td>\n",
       "    </tr>\n",
       "    <tr>\n",
       "      <th>3</th>\n",
       "      <td>20</td>\n",
       "      <td>20</td>\n",
       "      <td>99</td>\n",
       "      <td>21</td>\n",
       "      <td>60.00</td>\n",
       "      <td>154</td>\n",
       "      <td>1</td>\n",
       "    </tr>\n",
       "    <tr>\n",
       "      <th>4</th>\n",
       "      <td>20</td>\n",
       "      <td>20</td>\n",
       "      <td>98</td>\n",
       "      <td>25</td>\n",
       "      <td>62.45</td>\n",
       "      <td>144</td>\n",
       "      <td>0</td>\n",
       "    </tr>\n",
       "  </tbody>\n",
       "</table>\n",
       "</div>"
      ],
      "text/plain": [
       "   # of Peers  Endorsing  MaxDelay  MinDelay  AvgDelay  TPS  IsTrustable\n",
       "0          20         20        98        28     67.85  229            1\n",
       "1          20         20        99        23     58.90  141            0\n",
       "2          20         20        89        29     67.95  209            1\n",
       "3          20         20        99        21     60.00  154            1\n",
       "4          20         20        98        25     62.45  144            0"
      ]
     },
     "execution_count": 2,
     "metadata": {},
     "output_type": "execute_result"
    }
   ],
   "source": [
    "dataset.head()"
   ]
  },
  {
   "cell_type": "code",
   "execution_count": null,
   "metadata": {},
   "outputs": [],
   "source": [
    "sns.pairplot(dataset)"
   ]
  },
  {
   "cell_type": "code",
   "execution_count": null,
   "metadata": {},
   "outputs": [],
   "source": [
    "plt.figure(figsize=(20,12))\n",
    "sns.heatmap(dataset.corr('pearson'), annot=True)\n",
    "# There is a strong correlation between mean radius and mean perimeter as well as mean area and mean perimeter "
   ]
  },
  {
   "cell_type": "code",
   "execution_count": null,
   "metadata": {},
   "outputs": [],
   "source": [
    "plt.figure(figsize=(20,12))\n",
    "sns.heatmap(dataset.corr('kendall'), annot=True)\n",
    "# There is a strong correlation between mean radius and mean perimeter as well as mean area and mean perimeter "
   ]
  },
  {
   "cell_type": "code",
   "execution_count": null,
   "metadata": {},
   "outputs": [],
   "source": [
    "plt.figure(figsize=(20,12))\n",
    "sns.heatmap(dataset.corr('spearman'), annot=True)\n",
    "# There is a strong correlation between mean radius and mean perimeter as well as mean area and mean perimeter "
   ]
  },
  {
   "cell_type": "code",
   "execution_count": 3,
   "metadata": {},
   "outputs": [
    {
     "data": {
      "text/html": [
       "<div>\n",
       "<style scoped>\n",
       "    .dataframe tbody tr th:only-of-type {\n",
       "        vertical-align: middle;\n",
       "    }\n",
       "\n",
       "    .dataframe tbody tr th {\n",
       "        vertical-align: top;\n",
       "    }\n",
       "\n",
       "    .dataframe thead th {\n",
       "        text-align: right;\n",
       "    }\n",
       "</style>\n",
       "<table border=\"1\" class=\"dataframe\">\n",
       "  <thead>\n",
       "    <tr style=\"text-align: right;\">\n",
       "      <th></th>\n",
       "      <th># of Peers</th>\n",
       "      <th>Endorsing</th>\n",
       "      <th>MaxDelay</th>\n",
       "      <th>MinDelay</th>\n",
       "      <th>AvgDelay</th>\n",
       "      <th>TPS</th>\n",
       "      <th>IsTrustable</th>\n",
       "    </tr>\n",
       "  </thead>\n",
       "  <tbody>\n",
       "    <tr>\n",
       "      <th># of Peers</th>\n",
       "      <td>1.000000</td>\n",
       "      <td>1.000000</td>\n",
       "      <td>0.185710</td>\n",
       "      <td>-0.191541</td>\n",
       "      <td>0.845770</td>\n",
       "      <td>-0.232518</td>\n",
       "      <td>-0.234630</td>\n",
       "    </tr>\n",
       "    <tr>\n",
       "      <th>Endorsing</th>\n",
       "      <td>1.000000</td>\n",
       "      <td>1.000000</td>\n",
       "      <td>0.185710</td>\n",
       "      <td>-0.191541</td>\n",
       "      <td>0.845770</td>\n",
       "      <td>-0.232518</td>\n",
       "      <td>-0.234630</td>\n",
       "    </tr>\n",
       "    <tr>\n",
       "      <th>MaxDelay</th>\n",
       "      <td>0.185710</td>\n",
       "      <td>0.185710</td>\n",
       "      <td>1.000000</td>\n",
       "      <td>0.090402</td>\n",
       "      <td>0.284153</td>\n",
       "      <td>-0.031310</td>\n",
       "      <td>-0.132432</td>\n",
       "    </tr>\n",
       "    <tr>\n",
       "      <th>MinDelay</th>\n",
       "      <td>-0.191541</td>\n",
       "      <td>-0.191541</td>\n",
       "      <td>0.090402</td>\n",
       "      <td>1.000000</td>\n",
       "      <td>0.051230</td>\n",
       "      <td>0.072280</td>\n",
       "      <td>-0.051274</td>\n",
       "    </tr>\n",
       "    <tr>\n",
       "      <th>AvgDelay</th>\n",
       "      <td>0.845770</td>\n",
       "      <td>0.845770</td>\n",
       "      <td>0.284153</td>\n",
       "      <td>0.051230</td>\n",
       "      <td>1.000000</td>\n",
       "      <td>-0.155628</td>\n",
       "      <td>-0.246264</td>\n",
       "    </tr>\n",
       "    <tr>\n",
       "      <th>TPS</th>\n",
       "      <td>-0.232518</td>\n",
       "      <td>-0.232518</td>\n",
       "      <td>-0.031310</td>\n",
       "      <td>0.072280</td>\n",
       "      <td>-0.155628</td>\n",
       "      <td>1.000000</td>\n",
       "      <td>0.771155</td>\n",
       "    </tr>\n",
       "    <tr>\n",
       "      <th>IsTrustable</th>\n",
       "      <td>-0.234630</td>\n",
       "      <td>-0.234630</td>\n",
       "      <td>-0.132432</td>\n",
       "      <td>-0.051274</td>\n",
       "      <td>-0.246264</td>\n",
       "      <td>0.771155</td>\n",
       "      <td>1.000000</td>\n",
       "    </tr>\n",
       "  </tbody>\n",
       "</table>\n",
       "</div>"
      ],
      "text/plain": [
       "             # of Peers  Endorsing  MaxDelay  MinDelay  AvgDelay       TPS  \\\n",
       "# of Peers     1.000000   1.000000  0.185710 -0.191541  0.845770 -0.232518   \n",
       "Endorsing      1.000000   1.000000  0.185710 -0.191541  0.845770 -0.232518   \n",
       "MaxDelay       0.185710   0.185710  1.000000  0.090402  0.284153 -0.031310   \n",
       "MinDelay      -0.191541  -0.191541  0.090402  1.000000  0.051230  0.072280   \n",
       "AvgDelay       0.845770   0.845770  0.284153  0.051230  1.000000 -0.155628   \n",
       "TPS           -0.232518  -0.232518 -0.031310  0.072280 -0.155628  1.000000   \n",
       "IsTrustable   -0.234630  -0.234630 -0.132432 -0.051274 -0.246264  0.771155   \n",
       "\n",
       "             IsTrustable  \n",
       "# of Peers     -0.234630  \n",
       "Endorsing      -0.234630  \n",
       "MaxDelay       -0.132432  \n",
       "MinDelay       -0.051274  \n",
       "AvgDelay       -0.246264  \n",
       "TPS             0.771155  \n",
       "IsTrustable     1.000000  "
      ]
     },
     "execution_count": 3,
     "metadata": {},
     "output_type": "execute_result"
    }
   ],
   "source": [
    "dataset.corr('pearson')"
   ]
  },
  {
   "cell_type": "code",
   "execution_count": null,
   "metadata": {},
   "outputs": [],
   "source": []
  },
  {
   "cell_type": "code",
   "execution_count": 4,
   "metadata": {},
   "outputs": [
    {
     "data": {
      "text/html": [
       "<div>\n",
       "<style scoped>\n",
       "    .dataframe tbody tr th:only-of-type {\n",
       "        vertical-align: middle;\n",
       "    }\n",
       "\n",
       "    .dataframe tbody tr th {\n",
       "        vertical-align: top;\n",
       "    }\n",
       "\n",
       "    .dataframe thead th {\n",
       "        text-align: right;\n",
       "    }\n",
       "</style>\n",
       "<table border=\"1\" class=\"dataframe\">\n",
       "  <thead>\n",
       "    <tr style=\"text-align: right;\">\n",
       "      <th></th>\n",
       "      <th>MinDelay</th>\n",
       "      <th>AvgDelay</th>\n",
       "    </tr>\n",
       "  </thead>\n",
       "  <tbody>\n",
       "    <tr>\n",
       "      <th>0</th>\n",
       "      <td>28</td>\n",
       "      <td>67.85</td>\n",
       "    </tr>\n",
       "    <tr>\n",
       "      <th>1</th>\n",
       "      <td>23</td>\n",
       "      <td>58.90</td>\n",
       "    </tr>\n",
       "    <tr>\n",
       "      <th>2</th>\n",
       "      <td>29</td>\n",
       "      <td>67.95</td>\n",
       "    </tr>\n",
       "    <tr>\n",
       "      <th>3</th>\n",
       "      <td>21</td>\n",
       "      <td>60.00</td>\n",
       "    </tr>\n",
       "    <tr>\n",
       "      <th>4</th>\n",
       "      <td>25</td>\n",
       "      <td>62.45</td>\n",
       "    </tr>\n",
       "  </tbody>\n",
       "</table>\n",
       "</div>"
      ],
      "text/plain": [
       "   MinDelay  AvgDelay\n",
       "0        28     67.85\n",
       "1        23     58.90\n",
       "2        29     67.95\n",
       "3        21     60.00\n",
       "4        25     62.45"
      ]
     },
     "execution_count": 4,
     "metadata": {},
     "output_type": "execute_result"
    }
   ],
   "source": [
    "#y is the feature we are trying to predict\n",
    "#X is the predictors which are the remaining columns(mean radius, mean texture,mean perimeter, mean area, mean smoothness etc)\n",
    "#X = dataset.drop(['# of Peers','IsTrustable'], axis=1)#drop the targer feature and use all the remaining features in our datafile\n",
    "X = dataset.drop(['# of Peers','Endorsing','MaxDelay','TPS','IsTrustable'], axis=1)\n",
    "X.head()\n",
    "#X1= dataset.drop(['# of Peers'], axis=1)"
   ]
  },
  {
   "cell_type": "code",
   "execution_count": 5,
   "metadata": {},
   "outputs": [
    {
     "data": {
      "text/plain": [
       "0    1\n",
       "1    0\n",
       "2    1\n",
       "3    1\n",
       "4    0\n",
       "Name: IsTrustable, dtype: int64"
      ]
     },
     "execution_count": 5,
     "metadata": {},
     "output_type": "execute_result"
    }
   ],
   "source": [
    "y = dataset['IsTrustable']\n",
    "y.head()"
   ]
  },
  {
   "cell_type": "code",
   "execution_count": null,
   "metadata": {},
   "outputs": [],
   "source": [
    "plt.figure(figsize=(20,12))\n",
    "sns.heatmap(X.corr('pearson'), annot=True)"
   ]
  },
  {
   "cell_type": "code",
   "execution_count": 6,
   "metadata": {},
   "outputs": [],
   "source": [
    "from sklearn.model_selection import train_test_split\n",
    "#X_train, X_test, y_train, y_test = train_test_split(X,y,test_size=0.2,random_state=20)\n",
    "X_train, X_test, y_train, y_test = train_test_split(X,y,test_size=0.2)\n",
    "#X_train1= X_train.drop(['TPS'], axis=1)\n",
    "#X_test1= X_test.drop(['TPS'], axis=1)"
   ]
  },
  {
   "cell_type": "code",
   "execution_count": 7,
   "metadata": {},
   "outputs": [
    {
     "name": "stdout",
     "output_type": "stream",
     "text": [
      "The size of the training \"X\" (input features) is (140, 2)\n",
      "\n",
      "\n",
      "The size of our testing \"X\" (input features) is (36, 2)\n",
      "\n",
      "\n",
      "The size of the training \"y\" (output features) is (140,)\n",
      "\n",
      "\n",
      "The size of the training \"y\" (output features) is (36,)\n"
     ]
    }
   ],
   "source": [
    "print('The size of the training \"X\" (input features) is', X_train.shape)\n",
    "print('\\n')\n",
    "print('The size of our testing \"X\" (input features) is', X_test.shape)\n",
    "print('\\n')\n",
    "print('The size of the training \"y\" (output features) is', y_train.shape)\n",
    "print('\\n')\n",
    "print('The size of the training \"y\" (output features) is', y_test.shape)"
   ]
  },
  {
   "cell_type": "code",
   "execution_count": 8,
   "metadata": {},
   "outputs": [
    {
     "data": {
      "text/plain": [
       "SVC(gamma='auto')"
      ]
     },
     "execution_count": 8,
     "metadata": {},
     "output_type": "execute_result"
    }
   ],
   "source": [
    "from sklearn.svm import SVC\n",
    "svc_model = SVC(C=1.0, cache_size=200,class_weight=None, coef0=0.0,decision_function_shape='ovr',degree=3,gamma='auto',kernel='rbf',max_iter=-1,probability=False,random_state=None,shrinking=True,tol=0.001,verbose=False)\n",
    "\n",
    "svc_model.fit(X_train, y_train)"
   ]
  },
  {
   "cell_type": "code",
   "execution_count": 9,
   "metadata": {},
   "outputs": [],
   "source": [
    "y_predict = svc_model.predict(X_test)"
   ]
  },
  {
   "cell_type": "code",
   "execution_count": 10,
   "metadata": {},
   "outputs": [
    {
     "data": {
      "text/html": [
       "<div>\n",
       "<style scoped>\n",
       "    .dataframe tbody tr th:only-of-type {\n",
       "        vertical-align: middle;\n",
       "    }\n",
       "\n",
       "    .dataframe tbody tr th {\n",
       "        vertical-align: top;\n",
       "    }\n",
       "\n",
       "    .dataframe thead th {\n",
       "        text-align: right;\n",
       "    }\n",
       "</style>\n",
       "<table border=\"1\" class=\"dataframe\">\n",
       "  <thead>\n",
       "    <tr style=\"text-align: right;\">\n",
       "      <th></th>\n",
       "      <th>predicted_Trustable</th>\n",
       "      <th>predicted_notTrustable</th>\n",
       "    </tr>\n",
       "  </thead>\n",
       "  <tbody>\n",
       "    <tr>\n",
       "      <th>is_Trustable</th>\n",
       "      <td>21</td>\n",
       "      <td>4</td>\n",
       "    </tr>\n",
       "    <tr>\n",
       "      <th>is_notTrustable</th>\n",
       "      <td>9</td>\n",
       "      <td>2</td>\n",
       "    </tr>\n",
       "  </tbody>\n",
       "</table>\n",
       "</div>"
      ],
      "text/plain": [
       "                 predicted_Trustable  predicted_notTrustable\n",
       "is_Trustable                      21                       4\n",
       "is_notTrustable                    9                       2"
      ]
     },
     "execution_count": 10,
     "metadata": {},
     "output_type": "execute_result"
    }
   ],
   "source": [
    "#Import metric libraries\n",
    "#This is to check the accuracy of the prediction by comparing it to the output we already have.\n",
    "#Use the confusion matrix for this comparison\n",
    "from sklearn.metrics import classification_report, confusion_matrix\n",
    "cm = np.array(confusion_matrix(y_test,y_predict,labels=[1,0]))\n",
    "confusion = pd.DataFrame(cm,index=['is_Trustable', 'is_notTrustable'],\n",
    "                    columns=['predicted_Trustable','predicted_notTrustable'])\n",
    "confusion\n"
   ]
  },
  {
   "cell_type": "code",
   "execution_count": 11,
   "metadata": {},
   "outputs": [
    {
     "data": {
      "text/plain": [
       "<AxesSubplot:>"
      ]
     },
     "execution_count": 11,
     "metadata": {},
     "output_type": "execute_result"
    },
    {
     "data": {
      "image/png": "[encoded data removed]",
      "text/plain": [
       "<Figure size 432x288 with 2 Axes>"
      ]
     },
     "metadata": {
      "needs_background": "light"
     },
     "output_type": "display_data"
    }
   ],
   "source": [
    "#Lets visualize the confusion matrix on the Heatmap\n",
    "sns.heatmap(confusion,annot=True)"
   ]
  },
  {
   "cell_type": "code",
   "execution_count": 12,
   "metadata": {},
   "outputs": [
    {
     "name": "stdout",
     "output_type": "stream",
     "text": [
      "              precision    recall  f1-score   support\n",
      "\n",
      "           0       0.33      0.18      0.24        11\n",
      "           1       0.70      0.84      0.76        25\n",
      "\n",
      "    accuracy                           0.64        36\n",
      "   macro avg       0.52      0.51      0.50        36\n",
      "weighted avg       0.59      0.64      0.60        36\n",
      "\n"
     ]
    }
   ],
   "source": [
    "print(classification_report(y_test, y_predict))\n",
    "#print(\"training set accuracy: {:.2f}\".format(svc_model.score(X_train, y_train)))\n",
    "#print(\"test set accuracy: {:.2f}\".format(svc_model.score(X_test, y_test)))\n",
    "#The accuracy is 90%"
   ]
  },
  {
   "cell_type": "code",
   "execution_count": 13,
   "metadata": {},
   "outputs": [
    {
     "data": {
      "text/plain": [
       "MinDelay    20.0\n",
       "AvgDelay    37.6\n",
       "dtype: float64"
      ]
     },
     "execution_count": 13,
     "metadata": {},
     "output_type": "execute_result"
    }
   ],
   "source": [
    "#Improving the model\n",
    "#first is to normalize the training data\n",
    "X_train_min = X_train.min()\n",
    "X_train_min"
   ]
  },
  {
   "cell_type": "code",
   "execution_count": 14,
   "metadata": {},
   "outputs": [
    {
     "data": {
      "text/plain": [
       "MinDelay    45.0\n",
       "AvgDelay    74.8\n",
       "dtype: float64"
      ]
     },
     "execution_count": 14,
     "metadata": {},
     "output_type": "execute_result"
    }
   ],
   "source": [
    "X_train_max = X_train.max()\n",
    "X_train_max"
   ]
  },
  {
   "cell_type": "code",
   "execution_count": 15,
   "metadata": {},
   "outputs": [
    {
     "data": {
      "text/plain": [
       "MinDelay    25.0\n",
       "AvgDelay    37.2\n",
       "dtype: float64"
      ]
     },
     "execution_count": 15,
     "metadata": {},
     "output_type": "execute_result"
    }
   ],
   "source": [
    "X_train_range = (X_train_max-X_train_min)\n",
    "X_train_range"
   ]
  },
  {
   "cell_type": "code",
   "execution_count": 16,
   "metadata": {},
   "outputs": [
    {
     "data": {
      "text/html": [
       "<div>\n",
       "<style scoped>\n",
       "    .dataframe tbody tr th:only-of-type {\n",
       "        vertical-align: middle;\n",
       "    }\n",
       "\n",
       "    .dataframe tbody tr th {\n",
       "        vertical-align: top;\n",
       "    }\n",
       "\n",
       "    .dataframe thead th {\n",
       "        text-align: right;\n",
       "    }\n",
       "</style>\n",
       "<table border=\"1\" class=\"dataframe\">\n",
       "  <thead>\n",
       "    <tr style=\"text-align: right;\">\n",
       "      <th></th>\n",
       "      <th>MinDelay</th>\n",
       "      <th>AvgDelay</th>\n",
       "    </tr>\n",
       "  </thead>\n",
       "  <tbody>\n",
       "    <tr>\n",
       "      <th>112</th>\n",
       "      <td>0.12</td>\n",
       "      <td>0.278226</td>\n",
       "    </tr>\n",
       "    <tr>\n",
       "      <th>122</th>\n",
       "      <td>0.60</td>\n",
       "      <td>0.432796</td>\n",
       "    </tr>\n",
       "    <tr>\n",
       "      <th>104</th>\n",
       "      <td>0.28</td>\n",
       "      <td>0.427419</td>\n",
       "    </tr>\n",
       "    <tr>\n",
       "      <th>4</th>\n",
       "      <td>0.20</td>\n",
       "      <td>0.668011</td>\n",
       "    </tr>\n",
       "    <tr>\n",
       "      <th>111</th>\n",
       "      <td>0.28</td>\n",
       "      <td>0.318548</td>\n",
       "    </tr>\n",
       "  </tbody>\n",
       "</table>\n",
       "</div>"
      ],
      "text/plain": [
       "     MinDelay  AvgDelay\n",
       "112      0.12  0.278226\n",
       "122      0.60  0.432796\n",
       "104      0.28  0.427419\n",
       "4        0.20  0.668011\n",
       "111      0.28  0.318548"
      ]
     },
     "execution_count": 16,
     "metadata": {},
     "output_type": "execute_result"
    }
   ],
   "source": [
    "X_train_scaled = (X_train - X_train_min)/(X_train_range)\n",
    "X_train_scaled.head()"
   ]
  },
  {
   "cell_type": "code",
   "execution_count": 17,
   "metadata": {},
   "outputs": [],
   "source": [
    "#Train the SVM model with the scaled(Normalized)datasets\n",
    "X_test_min = X_test.min()\n",
    "X_test_range = (X_test - X_test_min).max()\n",
    "X_test_scaled = (X_test - X_test_min)/X_test_range"
   ]
  },
  {
   "cell_type": "code",
   "execution_count": 49,
   "metadata": {},
   "outputs": [
    {
     "data": {
      "text/plain": [
       "SVC(C=1000, gamma=1)"
      ]
     },
     "execution_count": 49,
     "metadata": {},
     "output_type": "execute_result"
    }
   ],
   "source": [
    "#svc_model = SVC(C=100,gamma=10,cache_size=200,class_weight=None,decision_function_shape='ovr',kernel='rbf',max_iter=-1,probability=False,random_state=None,shrinking=True,tol=0.001,verbose=False)\n",
    "svc_model = SVC(C=1000,gamma=1,kernel='rbf')\n",
    "svc_model.fit(X_train_scaled, y_train)"
   ]
  },
  {
   "cell_type": "code",
   "execution_count": 50,
   "metadata": {
    "scrolled": true
   },
   "outputs": [
    {
     "data": {
      "text/html": [
       "<div>\n",
       "<style scoped>\n",
       "    .dataframe tbody tr th:only-of-type {\n",
       "        vertical-align: middle;\n",
       "    }\n",
       "\n",
       "    .dataframe tbody tr th {\n",
       "        vertical-align: top;\n",
       "    }\n",
       "\n",
       "    .dataframe thead th {\n",
       "        text-align: right;\n",
       "    }\n",
       "</style>\n",
       "<table border=\"1\" class=\"dataframe\">\n",
       "  <thead>\n",
       "    <tr style=\"text-align: right;\">\n",
       "      <th></th>\n",
       "      <th>predicted_Trustable</th>\n",
       "      <th>predicted_notTrustable</th>\n",
       "    </tr>\n",
       "  </thead>\n",
       "  <tbody>\n",
       "    <tr>\n",
       "      <th>is_Trustable</th>\n",
       "      <td>21</td>\n",
       "      <td>4</td>\n",
       "    </tr>\n",
       "    <tr>\n",
       "      <th>is_notTrustable</th>\n",
       "      <td>9</td>\n",
       "      <td>2</td>\n",
       "    </tr>\n",
       "  </tbody>\n",
       "</table>\n",
       "</div>"
      ],
      "text/plain": [
       "                 predicted_Trustable  predicted_notTrustable\n",
       "is_Trustable                      21                       4\n",
       "is_notTrustable                    9                       2"
      ]
     },
     "execution_count": 50,
     "metadata": {},
     "output_type": "execute_result"
    }
   ],
   "source": [
    "y_predict = svc_model.predict(X_test_scaled)\n",
    "cm = confusion_matrix(y_test,y_predict)\n",
    "cm = np.array(confusion_matrix(y_test,y_predict,labels=[1,0]))\n",
    "confusion = pd.DataFrame(cm,index=['is_Trustable', 'is_notTrustable'],\n",
    "                    columns=['predicted_Trustable','predicted_notTrustable'])\n",
    "confusion\n"
   ]
  },
  {
   "cell_type": "code",
   "execution_count": 47,
   "metadata": {},
   "outputs": [
    {
     "data": {
      "text/plain": [
       "<AxesSubplot:>"
      ]
     },
     "execution_count": 47,
     "metadata": {},
     "output_type": "execute_result"
    },
    {
     "data": {
      "image/png": "[encoded data removed]",
      "text/plain": [
       "<Figure size 432x288 with 2 Axes>"
      ]
     },
     "metadata": {
      "needs_background": "light"
     },
     "output_type": "display_data"
    }
   ],
   "source": [
    "sns.heatmap(confusion,annot=True)"
   ]
  },
  {
   "cell_type": "code",
   "execution_count": 51,
   "metadata": {},
   "outputs": [
    {
     "name": "stdout",
     "output_type": "stream",
     "text": [
      "              precision    recall  f1-score   support\n",
      "\n",
      "           0       0.33      0.18      0.24        11\n",
      "           1       0.70      0.84      0.76        25\n",
      "\n",
      "    accuracy                           0.64        36\n",
      "   macro avg       0.52      0.51      0.50        36\n",
      "weighted avg       0.59      0.64      0.60        36\n",
      "\n",
      "training set accuracy: 0.60\n",
      "test set prediction accuracy: 0.83\n",
      "test set accuracy: 0.69\n"
     ]
    }
   ],
   "source": [
    "print(classification_report(y_test, y_predict))\n",
    "print(\"training set accuracy: {:.2f}\".format(svc_model.score(X_train, y_train)))\n",
    "print(\"test set prediction accuracy: {:.2f}\".format(svc_model.score(X_test, y_predict)))\n",
    "print(\"test set accuracy: {:.2f}\".format(svc_model.score(X_test, y_test)))"
   ]
  },
  {
   "cell_type": "code",
   "execution_count": null,
   "metadata": {},
   "outputs": [],
   "source": [
    "#finaltest = pd.read_csv('/home/inlab/Documents/SVMrealtestdataset.csv')\n",
    "\n",
    "print(\"Please enter the values\")\n",
    "NoofPeers = int(input(\"NoofPeers: \"))\n",
    "MaxDelay = float(input( \"MaxDelay: \"))\n",
    "MinDelay = float(input( \"MinDelay: \"))\n",
    "AvgDelay =float(input(\"AvgDelay: \"))\n",
    "new_input = [[NoofPeers,MaxDelay,MinDelay,AvgDelay]]  \n",
    "predictions = svc_model.predict(new_input)\n",
    "print(predictions)\n",
    "if predictions == 1:\n",
    "    print('Prediction: The input node set is Trustable node set')\n",
    "else:\n",
    "    print('Prediction: The input node set is Non-Trustable node set')\n",
    "\n"
   ]
  },
  {
   "cell_type": "code",
   "execution_count": null,
   "metadata": {},
   "outputs": [],
   "source": [
    "features = ['# of Peers','MaxDelay','MinDelay','AvgDelay']\n",
    "\n",
    "print(\"Please enter the values\")\n",
    "for feature in features:\n",
    "    val = input(feature + \": \")\n",
    "    predict[feature] = [float(val)]\n",
    "    \n",
    "predictions = svc_model.predict(dict(features))\n",
    "for pred_dict in predictions:\n",
    "    class_id = pred_dict['class_ids'][0]\n",
    "    print('Prediction is \"{}\"'.format(result[class_id]))\n",
    "    \n"
   ]
  },
  {
   "cell_type": "code",
   "execution_count": null,
   "metadata": {},
   "outputs": [],
   "source": []
  }
 ],
 "metadata": {
  "kernelspec": {
   "display_name": "Python 3",
   "language": "python",
   "name": "python3"
  },
  "language_info": {
   "codemirror_mode": {
    "name": "ipython",
    "version": 3
   },
   "file_extension": ".py",
   "mimetype": "text/x-python",
   "name": "python",
   "nbconvert_exporter": "python",
   "pygments_lexer": "ipython3",
   "version": "3.8.5"
  }
 },
 "nbformat": 4,
 "nbformat_minor": 4
}
