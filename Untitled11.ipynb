{
 "cells": [
  {
   "cell_type": "code",
   "execution_count": 1,
   "metadata": {},
   "outputs": [
    {
     "ename": "SyntaxError",
     "evalue": "invalid syntax (<ipython-input-1-2147a1ff5902>, line 1)",
     "output_type": "error",
     "traceback": [
      "\u001b[0;36m  File \u001b[0;32m\"<ipython-input-1-2147a1ff5902>\"\u001b[0;36m, line \u001b[0;32m1\u001b[0m\n\u001b[0;31m    function [] = svm_3d_matlab_vis(svmStruct,Xdata,group)\u001b[0m\n\u001b[0m              ^\u001b[0m\n\u001b[0;31mSyntaxError\u001b[0m\u001b[0;31m:\u001b[0m invalid syntax\n"
     ]
    }
   ],
   "source": [
    "    % load data\n",
    "     load fisheriris;\n",
    "% train svm using three features for two species\n",
    "    svmStruct = svmtrain(meas(1:100,1:3),species(1:100),'showplot','false','kernel_function','rbf',...\n",
    "      'boxconstraint',1,'kktviolationlevel',0.05,'tolkkt',5e-3); \n",
    "    % run function described above\n",
    "     svm_3d_matlab_vis(svmStruct,meas(1:100,1:3),species(1:100))\n",
    "function [] = svm_3d_matlab_vis(svmStruct,Xdata,group)\n",
    "sv =  svmStruct.SupportVectors;\n",
    "alphaHat = svmStruct.Alpha;\n",
    "bias = svmStruct.Bias;\n",
    "kfun = svmStruct.KernelFunction;\n",
    "kfunargs = svmStruct.KernelFunctionArgs;\n",
    "sh = svmStruct.ScaleData.shift; % shift vector\n",
    "scalef = svmStruct.ScaleData.scaleFactor; % scale vector\n",
    "\n",
    "group = group(~any(isnan(Xdata),2));\n",
    "Xdata =Xdata(~any(isnan(Xdata),2),:); % remove rows with NaN \n",
    "\n",
    "% scale and shift data\n",
    "Xdata1 = repmat(scalef,size(Xdata,1),1).*(Xdata+repmat(sh,size(Xdata,1),1));\n",
    "k = 50; \n",
    "cubeXMin = min(Xdata1(:,1));\n",
    "cubeYMin = min(Xdata1(:,2));\n",
    "cubeZMin = min(Xdata1(:,3));\n",
    "\n",
    "cubeXMax = max(Xdata1(:,1));\n",
    "cubeYMax = max(Xdata1(:,2));\n",
    "cubeZMax = max(Xdata1(:,3));\n",
    "stepx = (cubeXMax-cubeXMin)/(k-1);\n",
    "stepy = (cubeYMax-cubeYMin)/(k-1);\n",
    "stepz = (cubeZMax-cubeZMin)/(k-1);\n",
    "[x, y, z] = meshgrid(cubeXMin:stepx:cubeXMax,cubeYMin:stepy:cubeYMax,cubeZMin:stepz:cubeZMax);\n",
    "mm = size(x);\n",
    "x = x(:);\n",
    "y = y(:);\n",
    "z = z(:);\n",
    "f = (feval(kfun,sv,[x y z],kfunargs{:})'*alphaHat(:)) + bias;\n",
    "t = strcmp(group, group{1});\n",
    "\n",
    "% unscale and unshift data \n",
    "Xdata1 =(Xdata1./repmat(scalef,size(Xdata,1),1)) - repmat(sh,size(Xdata,1),1);\n",
    "x =(x./repmat(scalef(1),size(x,1),1)) - repmat(sh(1),size(x,1),1);\n",
    "y =(y./repmat(scalef(2),size(y,1),1)) - repmat(sh(2),size(y,1),1);\n",
    "z =(z./repmat(scalef(3),size(z,1),1)) - repmat(sh(3),size(z,1),1);\n",
    "figure\n",
    "plot3(Xdata1(t, 1), Xdata1(t, 2), Xdata1(t, 3), 'b.');\n",
    "hold on\n",
    "plot3(Xdata1(~t, 1), Xdata1(~t, 2), Xdata1(~t, 3), 'r.');\n",
    "hold on\n",
    "% load unscaled support vectors for plotting\n",
    "sv = svmStruct.SupportVectorIndices;\n",
    "sv = [Xdata1(sv, :)];\n",
    "plot3(sv(:, 1), sv(:, 2), sv(:, 3), 'go');\n",
    "legend(group{1},group{end},'support vectors')\n",
    "\n",
    "x0 = reshape(x, mm);\n",
    "y0 = reshape(y, mm);\n",
    "z0 = reshape(z, mm);\n",
    "v0 = reshape(f, mm);\n",
    "\n",
    "[faces,verts,colors] = isosurface(x0, y0, z0, v0, 0, x0);\n",
    "patch('Vertices', verts, 'Faces', faces, 'FaceColor','k','edgecolor', 'none', 'FaceAlpha', 0.5);\n",
    "grid on\n",
    "box on\n",
    "view(3)\n",
    "hold off\n",
    "end"
   ]
  }
 ],
 "metadata": {
  "kernelspec": {
   "display_name": "Python 3",
   "language": "python",
   "name": "python3"
  },
  "language_info": {
   "codemirror_mode": {
    "name": "ipython",
    "version": 3
   },
   "file_extension": ".py",
   "mimetype": "text/x-python",
   "name": "python",
   "nbconvert_exporter": "python",
   "pygments_lexer": "ipython3",
   "version": "3.8.5"
  }
 },
 "nbformat": 4,
 "nbformat_minor": 4
}
